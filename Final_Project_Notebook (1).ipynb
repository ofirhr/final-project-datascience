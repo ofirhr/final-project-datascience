{
 "cells": [
  {
   "cell_type": "markdown",
   "id": "05c2d328",
   "metadata": {},
   "source": [
    "# Data Science Project Notebook"
   ]
  },
  {
   "cell_type": "markdown",
   "id": "3eb23297",
   "metadata": {},
   "source": [
    "Welcome to my final project notebook for the Data Science course."
   ]
  },
  {
   "cell_type": "markdown",
   "id": "37bd782d",
   "metadata": {},
   "source": [
    "Data science involves several programming languages. Here is a list of commonly used ones:\n",
    "\n",
    "1. Python\n",
    "2. R\n",
    "3. SQL\n",
    "4. Java\n",
    "5. Scala"
   ]
  },
  {
   "cell_type": "markdown",
   "id": "84fd7de7",
   "metadata": {},
   "source": [
    "Some popular libraries used in data science are:\n",
    "\n",
    "1. Pandas\n",
    "2. NumPy\n",
    "3. Matplotlib\n",
    "4. Scikit-learn\n",
    "5. TensorFlow"
   ]
  },
  {
   "cell_type": "markdown",
   "id": "e9984e07",
   "metadata": {},
   "source": [
    "Here is a table of common data science tools:\n",
    "\n",
    "| Tool         | Description                          |\n",
    "|--------------|--------------------------------------|\n",
    "| Jupyter      | Interactive notebook environment     |\n",
    "| RStudio      | IDE for R programming                |\n",
    "| GitHub       | Version control and collaboration    |\n",
    "| VS Code      | Source code editor                   |\n",
    "| Apache Spark | Big data processing framework        |"
   ]
  },
  {
   "cell_type": "markdown",
   "id": "55390f89",
   "metadata": {},
   "source": [
    "In data science, arithmetic expressions are used to perform calculations and manipulate data."
   ]
  },
  {
   "cell_type": "code",
   "execution_count": null,
   "id": "e210f270",
   "metadata": {},
   "outputs": [],
   "source": [
    "# Multiply and add integers\n",
    "result = (5 * 3) + 2\n",
    "print(\"The result of (5 * 3) + 2 is:\", result)"
   ]
  },
  {
   "cell_type": "code",
   "execution_count": null,
   "id": "f3f52127",
   "metadata": {},
   "outputs": [],
   "source": [
    "# Convert minutes to hours\n",
    "minutes = 150\n",
    "hours = minutes / 60\n",
    "print(f\"{minutes} minutes is equal to {hours} hours\")"
   ]
  },
  {
   "cell_type": "markdown",
   "id": "f58a59b7",
   "metadata": {},
   "source": [
    "The objectives of this course include:\n",
    "\n",
    "- Understanding data science tools\n",
    "- Learning programming languages\n",
    "- Applying machine learning techniques\n",
    "- Visualizing data effectively"
   ]
  },
  {
   "cell_type": "markdown",
   "id": "d35d2861",
   "metadata": {},
   "source": [
    "**Author:** Ofir"
   ]
  }
 ],
 "metadata": {},
 "nbformat": 4,
 "nbformat_minor": 5
}
